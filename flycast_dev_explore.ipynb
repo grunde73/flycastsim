{
 "cells": [
  {
   "cell_type": "code",
   "execution_count": 2,
   "id": "6444f7d3-a482-4b16-a0f6-8f5095e98cd4",
   "metadata": {},
   "outputs": [
    {
     "name": "stderr",
     "output_type": "stream",
     "text": [
      "2021-04-27 13:29:24.161 WARNING streamlit.watcher.file_watcher: \n",
      "  For better performance, install the Watchdog module:\n",
      "  \n",
      "  $ xcode-select --install\n",
      "  $ pip install watchdog\n",
      "\n",
      "        \n"
     ]
    },
    {
     "data": {
      "text/html": [
       "        <script type=\"text/javascript\">\n",
       "        window.PlotlyConfig = {MathJaxConfig: 'local'};\n",
       "        if (window.MathJax) {MathJax.Hub.Config({SVG: {font: \"STIX-Web\"}});}\n",
       "        if (typeof require !== 'undefined') {\n",
       "        require.undef(\"plotly\");\n",
       "        requirejs.config({\n",
       "            paths: {\n",
       "                'plotly': ['https://cdn.plot.ly/plotly-latest.min']\n",
       "            }\n",
       "        });\n",
       "        require(['plotly'], function(Plotly) {\n",
       "            window._Plotly = Plotly;\n",
       "        });\n",
       "        }\n",
       "        </script>\n",
       "        "
      ]
     },
     "metadata": {},
     "output_type": "display_data"
    }
   ],
   "source": [
    "import scipy as sp\n",
    "import numpy as np\n",
    "import cufflinks as cf\n",
    "import pandas as pd\n",
    "from PIL import ImageFont, ImageDraw, Image\n",
    "from plotly.subplots import make_subplots\n",
    "import plotly.express as px\n",
    "import plotly.graph_objects as go\n",
    "\n",
    "import streamlit as st\n",
    "\n",
    "from flycast import brick_spring_simple \n",
    "\n",
    "# Off line settings for Cufflinks\n",
    "cf.set_config_file(offline=True)\n",
    "pd.options.display.html.table_schema = True"
   ]
  },
  {
   "cell_type": "code",
   "execution_count": 43,
   "id": "7b2ba46b-e06c-4fcf-bca2-91c09df43635",
   "metadata": {},
   "outputs": [],
   "source": [
    "k = 1.0\n",
    "m = 0.01\n",
    "d0 = 0\n",
    "start_cond = [0, 0] # [x(t0), v(t0)]\n",
    "ts = [1.0, 0.3, 0.45] # [sim_tmax, t_break, t_stop]\n",
    "vct = [0, 18, 0]      # [v_car(t0), v_car_max, v_car_end]\n",
    "res = brick_spring_simple(k, m, d0, start_cond, ts, vct)"
   ]
  },
  {
   "cell_type": "code",
   "execution_count": 33,
   "id": "300bdab5-3db6-4227-b057-cec9f5c96231",
   "metadata": {},
   "outputs": [],
   "source": [
    "h, w =  100, 600\n",
    "_im = Image.fromarray(np.uint8(np.ones((h,w)) * 255))\n",
    "draw_im = ImageDraw.Draw(_im)\n",
    "font = draw_im.getfont()"
   ]
  },
  {
   "cell_type": "code",
   "execution_count": 34,
   "id": "f56a5afe-61ba-454c-97bb-dbdfbe8895ff",
   "metadata": {},
   "outputs": [],
   "source": [
    "font = ImageFont.truetype(\"Keyboard.ttf\", 20)\n",
    "chalk = ImageFont.truetype(\"Chalkduster.ttf\",16)\n",
    "draw_im.text((10,10), \"test\", font=font, fill=0)\n",
    "\n",
    "stuff = ImageFont.truetype(\"./Open_Sans/OpenSans-Bold.ttf\")\n",
    "\n",
    "draw_im.text((100, 30), \"nok en lille:., test\")"
   ]
  },
  {
   "cell_type": "code",
   "execution_count": 32,
   "id": "58038b40-6e2f-4183-b2a5-d99dc247e2cb",
   "metadata": {},
   "outputs": [],
   "source": [
    "_im.show()"
   ]
  },
  {
   "cell_type": "code",
   "execution_count": 35,
   "id": "c3be1f83-3f4e-463b-b3e5-0bc9d650d447",
   "metadata": {},
   "outputs": [],
   "source": [
    "import os"
   ]
  },
  {
   "cell_type": "code",
   "execution_count": 41,
   "id": "6f337ea9-be24-49b1-948c-816dbf7dec2e",
   "metadata": {},
   "outputs": [
    {
     "data": {
      "text/plain": [
       "'..'"
      ]
     },
     "execution_count": 41,
     "metadata": {},
     "output_type": "execute_result"
    }
   ],
   "source": [
    "os.path.dirname(\"../\")"
   ]
  },
  {
   "cell_type": "code",
   "execution_count": null,
   "id": "62cf7b9e-f09a-4331-aac2-616bd729eaee",
   "metadata": {},
   "outputs": [],
   "source": [
    "from flycast import BrickSpringAnim"
   ]
  },
  {
   "cell_type": "code",
   "execution_count": null,
   "id": "38262a09-1ba1-493f-9b68-bbf656e38556",
   "metadata": {},
   "outputs": [],
   "source": [
    "stuff = BrickSpringAnim(res)"
   ]
  },
  {
   "cell_type": "code",
   "execution_count": null,
   "id": "bffd3fb4-9e8a-4fc0-9813-d392cb461412",
   "metadata": {},
   "outputs": [],
   "source": [
    "res.shape"
   ]
  },
  {
   "cell_type": "code",
   "execution_count": null,
   "id": "f79dedf5-293e-4624-ad47-1839577cdb7a",
   "metadata": {},
   "outputs": [],
   "source": [
    "import streamlit as st"
   ]
  },
  {
   "cell_type": "code",
   "execution_count": null,
   "id": "a45091c1-4fff-442d-9687-2b24e04037cb",
   "metadata": {},
   "outputs": [],
   "source": [
    "st.get_option"
   ]
  },
  {
   "cell_type": "code",
   "execution_count": null,
   "id": "3afbce54-5692-4b44-9b2d-0f4c205611d6",
   "metadata": {},
   "outputs": [],
   "source": []
  },
  {
   "cell_type": "code",
   "execution_count": null,
   "id": "34307174-4047-46bf-8c90-de147f5a3d2b",
   "metadata": {},
   "outputs": [],
   "source": [
    "im = Image.fromarray(np.uint8(np.ones((1000, 1000, 3))))"
   ]
  },
  {
   "cell_type": "code",
   "execution_count": null,
   "id": "b0abe6b0-298a-45f6-a78c-1e86f312022b",
   "metadata": {},
   "outputs": [],
   "source": [
    "stuff.font.getsize(\"dette er en test\")"
   ]
  },
  {
   "cell_type": "code",
   "execution_count": null,
   "id": "183bc018-ad7f-4d21-8a74-747767515ce9",
   "metadata": {},
   "outputs": [],
   "source": [
    "ImageDraw()"
   ]
  },
  {
   "cell_type": "code",
   "execution_count": null,
   "id": "68a67015-24a5-46f3-a3ea-1eb727b696dd",
   "metadata": {},
   "outputs": [],
   "source": [
    "ImageFont.FreeTypeFont.get_variation_names(\"sans\")"
   ]
  },
  {
   "cell_type": "code",
   "execution_count": 51,
   "id": "92f07297-c99f-47fe-8d3f-7a292a5351ce",
   "metadata": {},
   "outputs": [
    {
     "data": {
      "text/plain": [
       "3.006009012015018e-05"
      ]
     },
     "execution_count": 51,
     "metadata": {},
     "output_type": "execute_result"
    }
   ],
   "source": [
    "float(res.loc[res.index[1], [\"car position\"]])"
   ]
  },
  {
   "cell_type": "code",
   "execution_count": null,
   "id": "d492199b-0b32-4f90-b55c-049733422d89",
   "metadata": {},
   "outputs": [],
   "source": []
  }
 ],
 "metadata": {
  "kernelspec": {
   "display_name": "flycast",
   "language": "python",
   "name": "flycast"
  },
  "language_info": {
   "codemirror_mode": {
    "name": "ipython",
    "version": 3
   },
   "file_extension": ".py",
   "mimetype": "text/x-python",
   "name": "python",
   "nbconvert_exporter": "python",
   "pygments_lexer": "ipython3",
   "version": "3.8.7"
  }
 },
 "nbformat": 4,
 "nbformat_minor": 5
}
