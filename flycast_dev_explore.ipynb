{
 "cells": [
  {
   "cell_type": "code",
   "execution_count": 6,
   "id": "6444f7d3-a482-4b16-a0f6-8f5095e98cd4",
   "metadata": {},
   "outputs": [],
   "source": [
    "import scipy as sp\n",
    "import numpy as np\n",
    "# import cufflinks as cf\n",
    "import pandas as pd\n",
    "from PIL import ImageFont, ImageDraw, Image\n",
    "from plotly.subplots import make_subplots\n",
    "import plotly.express as px\n",
    "import plotly.graph_objects as go\n",
    "\n",
    "import streamlit as st\n",
    "\n",
    "from flycast import brick_spring_simple, BrickSpringAnim\n",
    "\n",
    "# Off line settings for Cufflinks\n",
    "# cf.set_config_file(offline=True)\n",
    "# pd.options.display.html.table_schema = True"
   ]
  },
  {
   "cell_type": "code",
   "execution_count": 5,
   "id": "7b2ba46b-e06c-4fcf-bca2-91c09df43635",
   "metadata": {},
   "outputs": [],
   "source": [
    "k = 1.0\n",
    "m = 0.01\n",
    "d0 = 0\n",
    "start_cond = [0, 0] # [x(t0), v(t0)]\n",
    "ts = [1.0, 0.3, 0.45] # [sim_tmax, t_break, t_stop]\n",
    "vct = [0, 18, 0]      # [v_car(t0), v_car_max, v_car_end]\n",
    "res = brick_spring_simple(k, m, d0, start_cond, ts, vct)"
   ]
  },
  {
   "cell_type": "code",
   "execution_count": 15,
   "id": "58038b40-6e2f-4183-b2a5-d99dc247e2cb",
   "metadata": {},
   "outputs": [],
   "source": [
    "animator = BrickSpringAnim(res, cols=[])"
   ]
  },
  {
   "cell_type": "code",
   "execution_count": 17,
   "id": "62cf7b9e-f09a-4331-aac2-616bd729eaee",
   "metadata": {},
   "outputs": [],
   "source": [
    "im = animator[300]"
   ]
  },
  {
   "cell_type": "code",
   "execution_count": 18,
   "id": "38262a09-1ba1-493f-9b68-bbf656e38556",
   "metadata": {},
   "outputs": [],
   "source": [
    "im.save(\"./doc/brick_spring.png\")"
   ]
  },
  {
   "cell_type": "code",
   "execution_count": null,
   "id": "0677d109-0038-4385-9060-11106d71174a",
   "metadata": {},
   "outputs": [],
   "source": []
  }
 ],
 "metadata": {
  "kernelspec": {
   "display_name": "flycast",
   "language": "python",
   "name": "flycast"
  },
  "language_info": {
   "codemirror_mode": {
    "name": "ipython",
    "version": 3
   },
   "file_extension": ".py",
   "mimetype": "text/x-python",
   "name": "python",
   "nbconvert_exporter": "python",
   "pygments_lexer": "ipython3",
   "version": "3.8.7"
  }
 },
 "nbformat": 4,
 "nbformat_minor": 5
}
