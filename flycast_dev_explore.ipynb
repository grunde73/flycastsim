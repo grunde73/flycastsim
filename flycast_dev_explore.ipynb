{
 "cells": [
  {
   "cell_type": "code",
   "execution_count": 1,
   "id": "6444f7d3-a482-4b16-a0f6-8f5095e98cd4",
   "metadata": {},
   "outputs": [
    {
     "data": {
      "text/html": [
       "        <script type=\"text/javascript\">\n",
       "        window.PlotlyConfig = {MathJaxConfig: 'local'};\n",
       "        if (window.MathJax) {MathJax.Hub.Config({SVG: {font: \"STIX-Web\"}});}\n",
       "        if (typeof require !== 'undefined') {\n",
       "        require.undef(\"plotly\");\n",
       "        requirejs.config({\n",
       "            paths: {\n",
       "                'plotly': ['https://cdn.plot.ly/plotly-latest.min']\n",
       "            }\n",
       "        });\n",
       "        require(['plotly'], function(Plotly) {\n",
       "            window._Plotly = Plotly;\n",
       "        });\n",
       "        }\n",
       "        </script>\n",
       "        "
      ]
     },
     "metadata": {},
     "output_type": "display_data"
    },
    {
     "data": {
      "text/html": [
       "        <script type=\"text/javascript\">\n",
       "        window.PlotlyConfig = {MathJaxConfig: 'local'};\n",
       "        if (window.MathJax) {MathJax.Hub.Config({SVG: {font: \"STIX-Web\"}});}\n",
       "        if (typeof require !== 'undefined') {\n",
       "        require.undef(\"plotly\");\n",
       "        requirejs.config({\n",
       "            paths: {\n",
       "                'plotly': ['https://cdn.plot.ly/plotly-latest.min']\n",
       "            }\n",
       "        });\n",
       "        require(['plotly'], function(Plotly) {\n",
       "            window._Plotly = Plotly;\n",
       "        });\n",
       "        }\n",
       "        </script>\n",
       "        "
      ]
     },
     "metadata": {},
     "output_type": "display_data"
    }
   ],
   "source": [
    "import scipy as sp\n",
    "import numpy as np\n",
    "import cufflinks as cf\n",
    "import pandas as pd\n",
    "\n",
    "from flycast import brick_spring_simple \n",
    "\n",
    "# Off line settings for Cufflinks\n",
    "cf.set_config_file(offline=True)\n",
    "pd.options.display.html.table_schema = True"
   ]
  },
  {
   "cell_type": "code",
   "execution_count": null,
   "id": "7b2ba46b-e06c-4fcf-bca2-91c09df43635",
   "metadata": {},
   "outputs": [],
   "source": [
    "k = 1.0\n",
    "m = 0.01\n",
    "d0 = 0\n",
    "start_cond = [0, 0] # [x(t0), v(t0)]\n",
    "ts = [1.0, 0.3, 0.45] # [sim_tmax, t_break, t_stop]\n",
    "vct = [0, 18, 0]      # [v_car(t0), v_car_max, v_car_end]\n",
    "res = brick_spring_simple(k, m, d0, start_cond, ts, vct)"
   ]
  },
  {
   "cell_type": "code",
   "execution_count": null,
   "id": "b9bfd514-c61c-4996-a03a-55da2fd3c2a9",
   "metadata": {},
   "outputs": [],
   "source": [
    "res.columns"
   ]
  },
  {
   "cell_type": "code",
   "execution_count": null,
   "id": "cba5331a-c095-4119-93c5-f92cb2503a44",
   "metadata": {},
   "outputs": [],
   "source": [
    "res.loc[:, ['sp_ext',]].iplot()"
   ]
  },
  {
   "cell_type": "code",
   "execution_count": null,
   "id": "6c2fc828-0dd2-4641-9f13-7115a8c5397f",
   "metadata": {},
   "outputs": [],
   "source": [
    "res.loc[:, ['sp_e', 'brick_e']].iplot()"
   ]
  },
  {
   "cell_type": "code",
   "execution_count": null,
   "id": "31a7803b-be8a-4446-8954-dc8ab0db4c09",
   "metadata": {},
   "outputs": [],
   "source": [
    "?np.allclose"
   ]
  },
  {
   "cell_type": "code",
   "execution_count": null,
   "id": "dd4f244f-58e0-402b-ab7a-50fa595669e3",
   "metadata": {},
   "outputs": [],
   "source": [
    "from plotly.subplots import make_subplots"
   ]
  },
  {
   "cell_type": "code",
   "execution_count": null,
   "id": "c6900ab8-eddf-46ae-916d-29b7a4d35c31",
   "metadata": {},
   "outputs": [],
   "source": [
    "fig = make_subplots(2,1)"
   ]
  },
  {
   "cell_type": "code",
   "execution_count": null,
   "id": "97e23709-5f9f-4ae4-8c3b-869a5354efe0",
   "metadata": {},
   "outputs": [],
   "source": [
    "# stuff = res.loc[:, ['force',]].figure(yTitle=r\"$Force\\ \\ [N]$\")\n",
    "# # staff = res.loc[:,['car_p',]].iplot(yTitle=r\"$Power\\ \\ [W]$\", xTitle=r\"$Time\\ \\ [s]$\", asFigure=True)\n",
    "# fig.add_trace(stuff)\n",
    "# # fig.add_trace(staff)\n",
    "\n",
    "# # force_fig = cf.Figure()\n",
    "# # force_fig.set_subplots(rows=2, cols=1, shared_xaxes=True)\n",
    "# # force_fig.add_trace(stuff)\n",
    "# # force_fig.add_trace(staff)"
   ]
  },
  {
   "cell_type": "code",
   "execution_count": null,
   "id": "0806496d-35fe-4e89-ba78-5276b960c71d",
   "metadata": {},
   "outputs": [],
   "source": [
    "# ?cf.Figure.get_subplot\n",
    "#force_fig.set_subplots(rows=2, cols=1, shared_xaxes=True)\n",
    "# force_fig.add_trace(res.loc[:, ['force',]].figure(yTitle=r\"$Force\\ \\ [N]$\"))\n",
    "# force_fig.add_trace(res.loc[:,['car_p',]].figure(yTitle=r\"$Power\\ \\ [W]$\",\n",
    "#                                                  xTitle=r\"$Time\\ \\ [s]$\"))"
   ]
  },
  {
   "cell_type": "code",
   "execution_count": null,
   "id": "06d6d22a-2c2c-4e6c-a07e-2777dfcd1403",
   "metadata": {},
   "outputs": [],
   "source": [
    "import streamlit as st"
   ]
  },
  {
   "cell_type": "code",
   "execution_count": null,
   "id": "be639533-ff00-4f61-ae14-e7ded205be39",
   "metadata": {},
   "outputs": [],
   "source": [
    "?st.altair_chart"
   ]
  },
  {
   "cell_type": "code",
   "execution_count": null,
   "id": "dfb6d964-de86-4377-8a62-87a67118e5da",
   "metadata": {},
   "outputs": [],
   "source": [
    "pd.options.plotting.backend = \"plotly\""
   ]
  },
  {
   "cell_type": "code",
   "execution_count": null,
   "id": "5b644d47-6001-49e3-aa11-0e5b7898b976",
   "metadata": {},
   "outputs": [],
   "source": [
    "res.plot(xtitle=r\"$Time\\ \\ [s]$\")"
   ]
  },
  {
   "cell_type": "code",
   "execution_count": null,
   "id": "32b708db-bc9b-4522-aaf6-62fc759d5fcf",
   "metadata": {},
   "outputs": [],
   "source": [
    "import plotly.express as px"
   ]
  },
  {
   "cell_type": "code",
   "execution_count": null,
   "id": "631acda2-5615-44ea-8eeb-6e73cc122597",
   "metadata": {},
   "outputs": [],
   "source": [
    "fig = px.line(res.iloc[:, [0,2,3]], labels=dict(index=r\"$time\\ [s]$\", value=\"Position\"))"
   ]
  },
  {
   "cell_type": "code",
   "execution_count": null,
   "id": "86c1c7bc-88ee-4917-addb-41e0c964d84c",
   "metadata": {},
   "outputs": [],
   "source": [
    "fig.axis"
   ]
  },
  {
   "cell_type": "code",
   "execution_count": null,
   "id": "e38bde03-2265-4dbf-9498-6f1c3b3c5ff9",
   "metadata": {},
   "outputs": [],
   "source": [
    "import plotly.graph_objects as go"
   ]
  },
  {
   "cell_type": "code",
   "execution_count": null,
   "id": "d300e3b0-bc32-43eb-856e-6942ea326fc2",
   "metadata": {},
   "outputs": [],
   "source": [
    "stuff = go.Scatter(x=[1, 2, 3], y=[4, 5, 6])"
   ]
  },
  {
   "cell_type": "code",
   "execution_count": null,
   "id": "c5f1257d-82bc-4702-a9bd-3207731eb8c7",
   "metadata": {},
   "outputs": [],
   "source": [
    "stuff."
   ]
  },
  {
   "cell_type": "code",
   "execution_count": null,
   "id": "705dabac-4902-4370-b331-5ee26631fa76",
   "metadata": {},
   "outputs": [],
   "source": [
    "type(fig)"
   ]
  },
  {
   "cell_type": "code",
   "execution_count": null,
   "id": "2bd6f286-a227-4710-97f1-3be54b73c254",
   "metadata": {},
   "outputs": [],
   "source": [
    "stuff = go.Scatter(y=res, x=res.index)"
   ]
  },
  {
   "cell_type": "code",
   "execution_count": null,
   "id": "bbc2e913-27e7-4f7c-a28f-03cc8b150586",
   "metadata": {},
   "outputs": [],
   "source": [
    "?go.Scatter"
   ]
  },
  {
   "cell_type": "code",
   "execution_count": null,
   "id": "2756712f-7229-4065-9ef6-defb25e99c38",
   "metadata": {},
   "outputs": [],
   "source": [
    "stuff = st.empty()"
   ]
  },
  {
   "cell_type": "code",
   "execution_count": null,
   "id": "ebc88071-4341-4b03-a65e-d1fba0efedbd",
   "metadata": {},
   "outputs": [],
   "source": [
    "?stuff.image"
   ]
  },
  {
   "cell_type": "code",
   "execution_count": 2,
   "id": "f5f8b0e1-a6a3-4870-8f2a-1c459f01124f",
   "metadata": {},
   "outputs": [],
   "source": [
    "from skimage.draw import line, line_aa, line_nd"
   ]
  },
  {
   "cell_type": "code",
   "execution_count": 4,
   "id": "18bf6bf5-c01c-42d3-9325-67040cad93e9",
   "metadata": {},
   "outputs": [
    {
     "data": {
      "text/plain": [
       "(array([ 0,  1,  0,  1,  2,  1,  2,  3,  2,  3,  4,  3,  4,  5,  4,  5,  6,\n",
       "         5,  6,  7,  6,  7,  8,  7,  8,  9,  8,  9, 10,  9, 10]),\n",
       " array([ 0,  0,  1,  1,  1,  2,  2,  2,  3,  3,  3,  4,  4,  4,  5,  5,  5,\n",
       "         6,  6,  6,  7,  7,  7,  8,  8,  8,  9,  9,  9, 10, 10]),\n",
       " array([1.        , 0.29289322, 0.29289322, 1.        , 0.29289322,\n",
       "        0.29289322, 1.        , 0.29289322, 0.29289322, 1.        ,\n",
       "        0.29289322, 0.29289322, 1.        , 0.29289322, 0.29289322,\n",
       "        1.        , 0.29289322, 0.29289322, 1.        , 0.29289322,\n",
       "        0.29289322, 1.        , 0.29289322, 0.29289322, 1.        ,\n",
       "        0.29289322, 0.29289322, 1.        , 0.29289322, 0.29289322,\n",
       "        1.        ]))"
      ]
     },
     "execution_count": 4,
     "metadata": {},
     "output_type": "execute_result"
    }
   ],
   "source": [
    "line_aa(0,0, 10, 10)"
   ]
  },
  {
   "cell_type": "code",
   "execution_count": 5,
   "id": "578b5985-62f8-46ea-a018-fe2bb484e819",
   "metadata": {},
   "outputs": [
    {
     "data": {
      "text/plain": [
       "\u001b[0;31mSignature:\u001b[0m \u001b[0mnp\u001b[0m\u001b[0;34m.\u001b[0m\u001b[0mones\u001b[0m\u001b[0;34m(\u001b[0m\u001b[0mshape\u001b[0m\u001b[0;34m,\u001b[0m \u001b[0mdtype\u001b[0m\u001b[0;34m=\u001b[0m\u001b[0;32mNone\u001b[0m\u001b[0;34m,\u001b[0m \u001b[0morder\u001b[0m\u001b[0;34m=\u001b[0m\u001b[0;34m'C'\u001b[0m\u001b[0;34m,\u001b[0m \u001b[0;34m*\u001b[0m\u001b[0;34m,\u001b[0m \u001b[0mlike\u001b[0m\u001b[0;34m=\u001b[0m\u001b[0;32mNone\u001b[0m\u001b[0;34m)\u001b[0m\u001b[0;34m\u001b[0m\u001b[0;34m\u001b[0m\u001b[0m\n",
       "\u001b[0;31mDocstring:\u001b[0m\n",
       "Return a new array of given shape and type, filled with ones.\n",
       "\n",
       "Parameters\n",
       "----------\n",
       "shape : int or sequence of ints\n",
       "    Shape of the new array, e.g., ``(2, 3)`` or ``2``.\n",
       "dtype : data-type, optional\n",
       "    The desired data-type for the array, e.g., `numpy.int8`.  Default is\n",
       "    `numpy.float64`.\n",
       "order : {'C', 'F'}, optional, default: C\n",
       "    Whether to store multi-dimensional data in row-major\n",
       "    (C-style) or column-major (Fortran-style) order in\n",
       "    memory.\n",
       "like : array_like\n",
       "    Reference object to allow the creation of arrays which are not\n",
       "    NumPy arrays. If an array-like passed in as ``like`` supports\n",
       "    the ``__array_function__`` protocol, the result will be defined\n",
       "    by it. In this case, it ensures the creation of an array object\n",
       "    compatible with that passed in via this argument.\n",
       "\n",
       "    .. note::\n",
       "        The ``like`` keyword is an experimental feature pending on\n",
       "        acceptance of :ref:`NEP 35 <NEP35>`.\n",
       "\n",
       "    .. versionadded:: 1.20.0\n",
       "\n",
       "Returns\n",
       "-------\n",
       "out : ndarray\n",
       "    Array of ones with the given shape, dtype, and order.\n",
       "\n",
       "See Also\n",
       "--------\n",
       "ones_like : Return an array of ones with shape and type of input.\n",
       "empty : Return a new uninitialized array.\n",
       "zeros : Return a new array setting values to zero.\n",
       "full : Return a new array of given shape filled with value.\n",
       "\n",
       "\n",
       "Examples\n",
       "--------\n",
       ">>> np.ones(5)\n",
       "array([1., 1., 1., 1., 1.])\n",
       "\n",
       ">>> np.ones((5,), dtype=int)\n",
       "array([1, 1, 1, 1, 1])\n",
       "\n",
       ">>> np.ones((2, 1))\n",
       "array([[1.],\n",
       "       [1.]])\n",
       "\n",
       ">>> s = (2,2)\n",
       ">>> np.ones(s)\n",
       "array([[1.,  1.],\n",
       "       [1.,  1.]])\n",
       "\u001b[0;31mFile:\u001b[0m      ~/.pyenv/versions/3.8.7/envs/flysim_3.8/lib/python3.8/site-packages/numpy/core/numeric.py\n",
       "\u001b[0;31mType:\u001b[0m      function\n"
      ]
     },
     "metadata": {},
     "output_type": "display_data"
    }
   ],
   "source": [
    "?np.ones"
   ]
  },
  {
   "cell_type": "code",
   "execution_count": null,
   "id": "d5248792-4944-4e8c-8a9e-5ac4650e0d3d",
   "metadata": {},
   "outputs": [],
   "source": []
  }
 ],
 "metadata": {
  "kernelspec": {
   "display_name": "flycast",
   "language": "python",
   "name": "flycast"
  },
  "language_info": {
   "codemirror_mode": {
    "name": "ipython",
    "version": 3
   },
   "file_extension": ".py",
   "mimetype": "text/x-python",
   "name": "python",
   "nbconvert_exporter": "python",
   "pygments_lexer": "ipython3",
   "version": "3.8.7"
  }
 },
 "nbformat": 4,
 "nbformat_minor": 5
}
