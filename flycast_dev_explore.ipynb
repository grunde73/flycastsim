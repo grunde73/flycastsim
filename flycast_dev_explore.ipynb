{
 "cells": [
  {
   "cell_type": "code",
   "execution_count": null,
   "id": "6444f7d3-a482-4b16-a0f6-8f5095e98cd4",
   "metadata": {},
   "outputs": [],
   "source": [
    "import scipy as sp\n",
    "import numpy as np\n",
    "import cufflinks as cf\n",
    "import pandas as pd\n",
    "\n",
    "from flycast.brick_spring import simple_sim\n",
    "\n",
    "# Off line settings for Cufflinks\n",
    "cf.set_config_file(offline=True)\n",
    "pd.options.display.html.table_schema = True"
   ]
  },
  {
   "cell_type": "code",
   "execution_count": null,
   "id": "7b2ba46b-e06c-4fcf-bca2-91c09df43635",
   "metadata": {},
   "outputs": [],
   "source": [
    "k = 1.0\n",
    "m = 0.01\n",
    "d0 = 0\n",
    "start_cond = [0, 0] # [x(t0), v(t0)]\n",
    "ts = [1.0, 0.3, 0.45] # [sim_tmax, t_break, t_stop]\n",
    "vct = [0, 18, 0]      # [v_car(t0), v_car_max, v_car_end]\n",
    "res = simple_sim(k, m, d0, start_cond, ts, vct)"
   ]
  },
  {
   "cell_type": "code",
   "execution_count": null,
   "id": "b9bfd514-c61c-4996-a03a-55da2fd3c2a9",
   "metadata": {},
   "outputs": [],
   "source": [
    "res.columns"
   ]
  },
  {
   "cell_type": "code",
   "execution_count": null,
   "id": "cba5331a-c095-4119-93c5-f92cb2503a44",
   "metadata": {},
   "outputs": [],
   "source": [
    "res.loc[:, ['sp_ext',]].iplot()"
   ]
  },
  {
   "cell_type": "code",
   "execution_count": null,
   "id": "6c2fc828-0dd2-4641-9f13-7115a8c5397f",
   "metadata": {},
   "outputs": [],
   "source": [
    "res.loc[:, ['sp_e', 'brick_e']].iplot()"
   ]
  },
  {
   "cell_type": "code",
   "execution_count": null,
   "id": "31a7803b-be8a-4446-8954-dc8ab0db4c09",
   "metadata": {},
   "outputs": [],
   "source": [
    "?np.allclose"
   ]
  },
  {
   "cell_type": "code",
   "execution_count": null,
   "id": "dd4f244f-58e0-402b-ab7a-50fa595669e3",
   "metadata": {},
   "outputs": [],
   "source": []
  }
 ],
 "metadata": {
  "kernelspec": {
   "display_name": "flycast",
   "language": "python",
   "name": "flycast"
  },
  "language_info": {
   "codemirror_mode": {
    "name": "ipython",
    "version": 3
   },
   "file_extension": ".py",
   "mimetype": "text/x-python",
   "name": "python",
   "nbconvert_exporter": "python",
   "pygments_lexer": "ipython3",
   "version": "3.8.7"
  }
 },
 "nbformat": 4,
 "nbformat_minor": 5
}
