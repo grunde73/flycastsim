{
 "cells": [
  {
   "cell_type": "markdown",
   "id": "caf5aa78-a629-4c5c-bc54-07e5c29ff70b",
   "metadata": {},
   "source": [
    "# flycastsim examples\n",
    "Some quick examples showing simple use of the library"
   ]
  },
  {
   "cell_type": "code",
   "execution_count": null,
   "id": "be5ed2cf-ff4a-4bb3-8659-f53be22b4388",
   "metadata": {},
   "outputs": [],
   "source": [
    "from flycast import brick_spring_simple, plot_brick_spring"
   ]
  },
  {
   "cell_type": "code",
   "execution_count": null,
   "id": "1fbd4922-bd0b-4469-b0a7-57a029bb8f4b",
   "metadata": {},
   "outputs": [],
   "source": [
    "# Set simulation parameters\n",
    "k = 1.0    # Spring stiffness [N/m]\n",
    "m = 0.01   # Brick mass [kg]\n",
    "d0 = 0     # Initial spring extension [m]\n",
    "start_cond = [0, 0] # Inintial brick position and speed [x(t0), v(t0)]\n",
    "ts = [1.0, 0.3, 0.45] # Key times in simulaton, [sim_max_time, t_car_speed_peak, t_car_stop]\n",
    "vct = [0, 18, 0]      # Car speed at the key times [v_car(t0), v_car_max, v_car_end]\n",
    "\n",
    "# Run the simulation, returning a Pandas DataFrame\n",
    "results = brick_spring_simple(k, m, d0, start_cond, ts, vct)"
   ]
  },
  {
   "cell_type": "code",
   "execution_count": null,
   "id": "9de10310-6cf3-4020-a35b-17d577db4439",
   "metadata": {},
   "outputs": [],
   "source": [
    "# Plot the results using plotly\n",
    "plot = plot_brick_spring(results, plot_cols=results.columns[0:3])\n",
    "plot.show()"
   ]
  }
 ],
 "metadata": {
  "kernelspec": {
   "display_name": "flycast",
   "language": "python",
   "name": "flycast"
  },
  "language_info": {
   "codemirror_mode": {
    "name": "ipython",
    "version": 3
   },
   "file_extension": ".py",
   "mimetype": "text/x-python",
   "name": "python",
   "nbconvert_exporter": "python",
   "pygments_lexer": "ipython3",
   "version": "3.8.7"
  }
 },
 "nbformat": 4,
 "nbformat_minor": 5
}
